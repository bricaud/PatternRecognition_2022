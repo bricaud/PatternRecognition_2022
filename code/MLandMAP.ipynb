{
 "cells": [
  {
   "cell_type": "markdown",
   "id": "cf34e148-90fa-4a4f-b757-39cc9e4c0797",
   "metadata": {},
   "source": [
    "# Maximum likelihood"
   ]
  },
  {
   "cell_type": "code",
   "execution_count": null,
   "id": "c75025dd-20dd-470d-a58a-bcbd340916a4",
   "metadata": {},
   "outputs": [],
   "source": [
    "import numpy as np\n",
    "import scipy.stats as stats\n",
    "import matplotlib.pyplot as plt"
   ]
  },
  {
   "cell_type": "markdown",
   "id": "6bb1d822-86db-4810-93cb-ba2844974271",
   "metadata": {},
   "source": [
    "An experiment to see that randomly drawing samples from a distribution may not match the distribution perfectly (deviation of the parameters). So there is an uncertainty when fitting a continuous distribution to the samples points."
   ]
  },
  {
   "cell_type": "code",
   "execution_count": null,
   "id": "d36f7063-9020-436c-bcae-858405966a52",
   "metadata": {},
   "outputs": [],
   "source": [
    "# 2 synthetic datasets drawn from the same distribution\n",
    "\n",
    "mu1 = [0, 0]\n",
    "S1 = [[2.0, 0], [0, 0.5]]\n",
    "\n",
    "x, y = np.mgrid[-4:4:.01, -3:3:.01]\n",
    "pos = np.dstack((x, y))\n",
    "\n",
    "rv1 = stats.multivariate_normal(mu1, S1)\n",
    "\n",
    "# plot the pdf\n",
    "fig2 = plt.figure()\n",
    "ax2 = fig2.add_subplot(111)\n",
    "ax2.contour(x, y, rv1.pdf(pos))\n",
    "\n",
    "# plot some random points from the pdf\n",
    "samples1 = rv1.rvs(20)\n",
    "samples2 = rv1.rvs(20)\n",
    "\n",
    "plt.scatter(samples1[:,0],samples1[:,1])\n",
    "plt.scatter(samples2[:,0],samples2[:,1])\n",
    "plt.show()\n",
    "print('Mean value of the distribution:',mu1)\n",
    "print('Mean of samples 1:', np.mean(samples1,axis=0))\n",
    "print('Mean of samples 2:', np.mean(samples2,axis=0))"
   ]
  },
  {
   "cell_type": "markdown",
   "id": "4051eae5-7970-49b5-ab98-8d46364b56d2",
   "metadata": {},
   "source": [
    "# Maximum a posteriori\n",
    "Here we see the influence of the prior probability distribution on the result obtained from the MAP"
   ]
  },
  {
   "cell_type": "markdown",
   "id": "94f0b6e2-2e23-4cf6-85e8-df0c9ef32da5",
   "metadata": {},
   "source": [
    "You can change the variance of the prior distribution and observe the posterior distribution.\n",
    "$$p(\\theta\\mid x) =\\frac{p(x\\mid \\theta)p(\\theta)}{p(x)}\n",
    "$$"
   ]
  },
  {
   "cell_type": "code",
   "execution_count": null,
   "id": "8928bcd5-9a51-4b8e-85b9-32a26495ba8d",
   "metadata": {},
   "outputs": [],
   "source": [
    "# parameters of the distributions\n",
    "mu_prior = 0\n",
    "mu_lhood = 3\n",
    "sigma_prior = 2\n",
    "sigma_lhood = 1\n",
    "\n",
    "x = np.linspace(mu_prior - 3*sigma_prior, mu_lhood + 6*sigma_lhood, 100)\n",
    "\n",
    "# define the pdf, we assume Gaussian distributions\n",
    "g_prior =  stats.norm.pdf(x, mu_prior, sigma_prior)\n",
    "g_lhood =  stats.norm.pdf(x, mu_lhood, sigma_lhood)\n",
    "\n",
    "g_posterior = g_prior*g_lhood\n",
    "# we compute p(x) as the integral over theta of p(x|\\theta)p(\\theta)\n",
    "n_g = np.sum(g_posterior)*(x[1]-x[0]) # approximate integration\n",
    "# we want to divide by the n_g to normalize the posterior to one\n",
    "g_posterior = g_posterior/n_g\n",
    "\n",
    "# plot\n",
    "plt.figure(dpi=100)\n",
    "plt.plot(x, g_prior, label=r'$p( \\theta)\\ prior $')\n",
    "plt.plot(x, g_lhood, label=r'$p(x|\\theta)\\ likelihood$')\n",
    "plt.plot(x, (g_posterior), 'k', label=r'$p(\\theta|x)\\ posterior$')\n",
    "\n",
    "plt.xlabel(r'$\\theta$')\n",
    "plt.grid()\n",
    "plt.legend()\n",
    "plt.show()"
   ]
  },
  {
   "cell_type": "code",
   "execution_count": null,
   "id": "9425e95d-8ee9-42c9-85d0-e916cb9fc5a3",
   "metadata": {},
   "outputs": [],
   "source": []
  }
 ],
 "metadata": {
  "kernelspec": {
   "display_name": "coursePR",
   "language": "python",
   "name": "coursepr"
  },
  "language_info": {
   "codemirror_mode": {
    "name": "ipython",
    "version": 3
   },
   "file_extension": ".py",
   "mimetype": "text/x-python",
   "name": "python",
   "nbconvert_exporter": "python",
   "pygments_lexer": "ipython3",
   "version": "3.9.12"
  }
 },
 "nbformat": 4,
 "nbformat_minor": 5
}
