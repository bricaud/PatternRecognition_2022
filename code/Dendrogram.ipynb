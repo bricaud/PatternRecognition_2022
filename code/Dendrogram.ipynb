{
 "cells": [
  {
   "cell_type": "markdown",
   "id": "2c584ad9-2b27-4afa-b01d-99ca2387c850",
   "metadata": {},
   "source": [
    "# Hierarchical Clustering Dendrogram"
   ]
  },
  {
   "cell_type": "code",
   "execution_count": null,
   "id": "9811ad07-32a0-47ea-8c6c-a10ca933e39e",
   "metadata": {},
   "outputs": [],
   "source": [
    "import numpy as np\n",
    "\n",
    "from matplotlib import pyplot as plt\n",
    "from scipy.cluster.hierarchy import dendrogram, linkage, fcluster\n",
    "from sklearn.datasets import load_iris\n",
    "from sklearn.cluster import AgglomerativeClustering\n",
    "import scipy.stats as stats"
   ]
  },
  {
   "cell_type": "markdown",
   "id": "1ca9c5bc-e699-4961-90d7-002756cd3394",
   "metadata": {},
   "source": [
    "## Create some data\n",
    "Gaussian distributions"
   ]
  },
  {
   "cell_type": "code",
   "execution_count": null,
   "id": "2efe692a-2c61-4dbc-8345-90800543e483",
   "metadata": {},
   "outputs": [],
   "source": [
    "# Gaussian distribution parameters\n",
    "mu1 = [1, 1]\n",
    "S1 = [[2.0, 0], [0, 0.5]]\n",
    "mu2 = [-1, -1]\n",
    "S2 = [[2.0, 0.3], [0.3, 0.5]]\n",
    "\n",
    "rv1 = stats.multivariate_normal(mu1, S1, seed=1)\n",
    "rv2 = stats.multivariate_normal(mu2, S2, seed=2)\n",
    "\n",
    "# plot the pdf\n",
    "fig2 = plt.figure()\n",
    "\n",
    "\n",
    "# plot some random points from the pdf\n",
    "samples1 = rv1.rvs(10)\n",
    "samples2 = rv2.rvs(10)\n",
    "\n",
    "# dataset is the set of all points \n",
    "X = np.concatenate((samples1,samples2))\n",
    "# labels\n",
    "Y = np.concatenate((np.zeros(len(samples1)),np.ones(len(samples2))))\n",
    "\n",
    "# plot the points\n",
    "plt.scatter(samples1[:,0],samples1[:,1])\n",
    "plt.scatter(samples2[:,0],samples2[:,1])\n",
    "plt.xlabel('Feature 1')\n",
    "plt.ylabel('Feature 2')\n",
    "for i in range(len(X)):\n",
    "    plt.annotate(i, (X[i,0], X[i,1]))\n",
    "\n",
    "plt.show()"
   ]
  },
  {
   "cell_type": "code",
   "execution_count": null,
   "id": "f4db56b4-8298-4630-a1bc-440d36727d6f",
   "metadata": {},
   "outputs": [],
   "source": [
    "#plt.figure(dpi=150)\n",
    "fig, (ax1, ax2, ax3) = plt.subplots(1, 3, figsize=(15, 5))\n",
    "#plt.xlabel('Index of point')\n",
    "#plt.ylabel('Distance')\n",
    "#.subplot(131)\n",
    "Z = linkage(X, 'single')\n",
    "dendrogram(Z, ax=ax1)\n",
    "ax1.set_title('single')\n",
    "ax1.set_ylabel('Distance')\n",
    "#plt.subplot(132)\n",
    "Z = linkage(X, 'complete')\n",
    "dendrogram(Z, ax=ax2)\n",
    "ax2.set_title('complete')\n",
    "#plt.subplot(133)\n",
    "Z = linkage(X, 'ward')\n",
    "dendrogram(Z, ax=ax3)\n",
    "ax3.set_title('Ward')\n",
    "\n",
    "plt.tight_layout()\n",
    "plt.show()"
   ]
  },
  {
   "cell_type": "code",
   "execution_count": null,
   "id": "b8a21614-bc94-4266-9553-37b2f1490b01",
   "metadata": {},
   "outputs": [],
   "source": [
    "Z = linkage(X, 'single')\n",
    "dendrogram(Z)\n",
    "\n",
    "plt.xlabel('Index of point')\n",
    "plt.ylabel('Distance')\n",
    "plt.show()"
   ]
  },
  {
   "cell_type": "code",
   "execution_count": null,
   "id": "6ffed2ca-ba6e-43cd-9b6e-7c1902a4f73e",
   "metadata": {},
   "outputs": [],
   "source": [
    "Z = linkage(X, 'ward')\n",
    "dendrogram(Z)\n",
    "\n",
    "plt.xlabel('Index of point')\n",
    "plt.ylabel('Distance')\n",
    "plt.show()"
   ]
  },
  {
   "cell_type": "code",
   "execution_count": null,
   "id": "4253e7c7-baf6-448f-85c6-249c749b9e05",
   "metadata": {},
   "outputs": [],
   "source": [
    "Z = linkage(X, 'complete')\n",
    "dendrogram(Z)\n",
    "\n",
    "plt.xlabel('Index of point')\n",
    "plt.ylabel('Distance')\n",
    "plt.show()"
   ]
  },
  {
   "cell_type": "markdown",
   "id": "586f6fcf-d085-4963-9e04-0cd9096a4572",
   "metadata": {},
   "source": [
    "## Another distribution of points"
   ]
  },
  {
   "cell_type": "code",
   "execution_count": null,
   "id": "f25484f5-2140-404d-960e-87b004fd4623",
   "metadata": {},
   "outputs": [],
   "source": [
    "# Gaussian distribution parameters\n",
    "mu1 = [1, 1]\n",
    "S1 = [[0.1, 0], [0, 0.5]]\n",
    "mu2 = [-1, -1]\n",
    "S2 = [[0.1, 0], [0, 0.5]]\n",
    "\n",
    "rv1 = stats.multivariate_normal(mu1, S1, seed=1)\n",
    "rv2 = stats.multivariate_normal(mu2, S2, seed=2)\n",
    "\n",
    "# plot the pdf\n",
    "fig2 = plt.figure()\n",
    "\n",
    "\n",
    "# plot some random points from the pdf\n",
    "samples1 = rv1.rvs(10)\n",
    "samples2 = rv2.rvs(10)\n",
    "\n",
    "# dataset is the set of all points \n",
    "X = np.concatenate((samples1,samples2))\n",
    "# labels\n",
    "Y = np.concatenate((np.zeros(len(samples1)),np.ones(len(samples2))))\n",
    "\n",
    "# plot the points\n",
    "plt.scatter(samples1[:,0],samples1[:,1])\n",
    "plt.scatter(samples2[:,0],samples2[:,1])\n",
    "\n",
    "for i in range(len(X)):\n",
    "    plt.annotate(i, (X[i,0], X[i,1]))\n",
    "\n",
    "plt.show()"
   ]
  },
  {
   "cell_type": "code",
   "execution_count": null,
   "id": "5ad95e62-92bc-4c88-a355-6e29fd4b6239",
   "metadata": {},
   "outputs": [],
   "source": [
    "#plt.figure(dpi=150)\n",
    "fig, (ax1, ax2, ax3) = plt.subplots(1, 3, figsize=(15, 5))\n",
    "#plt.xlabel('Index of point')\n",
    "#plt.ylabel('Distance')\n",
    "#.subplot(131)\n",
    "Z = linkage(X, 'single')\n",
    "dendrogram(Z, ax=ax1)\n",
    "ax1.set_title('single')\n",
    "#plt.subplot(132)\n",
    "Z = linkage(X, 'complete')\n",
    "dendrogram(Z, ax=ax2)\n",
    "ax2.set_title('complete')\n",
    "#plt.subplot(133)\n",
    "Z = linkage(X, 'ward')\n",
    "dendrogram(Z, ax=ax3)\n",
    "ax3.set_title('Ward')\n",
    "\n",
    "plt.tight_layout()\n",
    "plt.show()"
   ]
  },
  {
   "cell_type": "code",
   "execution_count": null,
   "id": "1547a044-c409-49e2-95a6-6aabaa2d35ac",
   "metadata": {},
   "outputs": [],
   "source": [
    "Z = linkage(X, 'single')\n",
    "distance = np.linspace(0,2,50)\n",
    "nb_clusters = [len(np.unique(fcluster(Z,t, criterion='distance'))) for t in distance]"
   ]
  },
  {
   "cell_type": "code",
   "execution_count": null,
   "id": "80476e23-54a7-43eb-8f07-3499c8c2c615",
   "metadata": {},
   "outputs": [],
   "source": [
    "plt.plot(distance, nb_clusters)\n",
    "plt.xlabel('Distance threshold')\n",
    "plt.ylabel('Nb of clusters')\n",
    "plt.show()"
   ]
  },
  {
   "cell_type": "markdown",
   "id": "d58986d6-f387-41e3-afab-91f343a4e09d",
   "metadata": {},
   "source": [
    "Let us display the distance matrix"
   ]
  },
  {
   "cell_type": "code",
   "execution_count": null,
   "id": "b08593ac-36e2-46a4-94d1-a6198f3bb6a5",
   "metadata": {},
   "outputs": [],
   "source": [
    "from scipy.spatial.distance import pdist,squareform"
   ]
  },
  {
   "cell_type": "code",
   "execution_count": null,
   "id": "9c788474-a0d7-4915-ae39-be3903824cd1",
   "metadata": {},
   "outputs": [],
   "source": [
    "# function for displaying the matrix in a nice way\n",
    "# from https://dev.to/callas1900/how-to-display-latex-matrix-as-output-of-a-code-cell-40ck\n",
    "from IPython.display import display, Math\n",
    "\n",
    "def print_matrix(array):\n",
    "    data = ''\n",
    "    for line in array:        \n",
    "        if len(line) == 1:\n",
    "            data += ' %.3f &'%line + r' \\\\\\n'\n",
    "            continue\n",
    "        for element in line:\n",
    "            data += ' %.2f &'%element\n",
    "        data += r' \\\\' + '\\n'\n",
    "    display(Math('\\\\begin{bmatrix} \\n%s\\end{bmatrix}'%data))\n"
   ]
  },
  {
   "cell_type": "code",
   "execution_count": null,
   "id": "746bf8e1-3bf0-4038-bfee-4b3d3dba4b14",
   "metadata": {},
   "outputs": [],
   "source": [
    "d = squareform(pdist(X[:10,:]))"
   ]
  },
  {
   "cell_type": "code",
   "execution_count": null,
   "id": "3eb32e99-221b-4622-8b42-fd6c1977a937",
   "metadata": {},
   "outputs": [],
   "source": [
    "print_matrix(d)"
   ]
  },
  {
   "cell_type": "code",
   "execution_count": null,
   "id": "d16295e9-4aef-45a7-a724-5a08fa7f9f76",
   "metadata": {},
   "outputs": [],
   "source": []
  }
 ],
 "metadata": {
  "kernelspec": {
   "display_name": "coursePR",
   "language": "python",
   "name": "coursepr"
  },
  "language_info": {
   "codemirror_mode": {
    "name": "ipython",
    "version": 3
   },
   "file_extension": ".py",
   "mimetype": "text/x-python",
   "name": "python",
   "nbconvert_exporter": "python",
   "pygments_lexer": "ipython3",
   "version": "3.9.12"
  }
 },
 "nbformat": 4,
 "nbformat_minor": 5
}
