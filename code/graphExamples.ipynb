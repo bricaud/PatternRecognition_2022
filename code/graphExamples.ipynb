{
 "cells": [
  {
   "cell_type": "code",
   "execution_count": null,
   "id": "66d44157-1ba0-4c66-8915-04de5f478712",
   "metadata": {},
   "outputs": [],
   "source": [
    "import networkx as nx\n",
    "import numpy as np\n",
    "import matplotlib.pyplot as plt"
   ]
  },
  {
   "cell_type": "markdown",
   "id": "db9d52b5-d4d8-4007-ba26-39d9318f0b81",
   "metadata": {},
   "source": [
    "# Example of common graphs\n",
    "\n",
    "More info can be found in the documentation of the Python module [networkx](https://networkx.org/documentation/stable/reference/generators.html)"
   ]
  },
  {
   "cell_type": "code",
   "execution_count": null,
   "id": "acd1f054-d724-4e85-aa51-341c56cc873a",
   "metadata": {},
   "outputs": [],
   "source": [
    "G = nx.path_graph(10)\n",
    "nx.draw(G)"
   ]
  },
  {
   "cell_type": "code",
   "execution_count": null,
   "id": "4d67f20d-15d7-426b-a1f0-122132dd01a2",
   "metadata": {},
   "outputs": [],
   "source": [
    "G = nx.grid_graph((4,4))\n",
    "nx.draw(G)"
   ]
  },
  {
   "cell_type": "code",
   "execution_count": null,
   "id": "29c2323d-0688-4d77-8e0d-ca8aadfb36d3",
   "metadata": {},
   "outputs": [],
   "source": [
    "#G = nx.random_tree(10)\n",
    "G = nx.balanced_tree(3,2)\n",
    "nx.draw(G)"
   ]
  },
  {
   "cell_type": "code",
   "execution_count": null,
   "id": "a9ad1673-f4c6-4682-9f77-3dee9699762b",
   "metadata": {},
   "outputs": [],
   "source": [
    "# A random graph\n",
    "G = nx.erdos_renyi_graph(50,0.1)\n",
    "nx.draw(G)"
   ]
  },
  {
   "cell_type": "code",
   "execution_count": null,
   "id": "cc392fbb-4753-40f5-b7ee-b0729d8f8d11",
   "metadata": {},
   "outputs": [],
   "source": [
    "# A random graph simulating a real world graph, a \"scale-free\" network\n",
    "G = nx.barabasi_albert_graph(100,3)\n",
    "nx.draw(G)"
   ]
  },
  {
   "cell_type": "code",
   "execution_count": null,
   "id": "fdaafb4b-3958-418f-937f-42e81233fffb",
   "metadata": {},
   "outputs": [],
   "source": []
  }
 ],
 "metadata": {
  "kernelspec": {
   "display_name": "graphcomp38",
   "language": "python",
   "name": "graphcomp38"
  },
  "language_info": {
   "codemirror_mode": {
    "name": "ipython",
    "version": 3
   },
   "file_extension": ".py",
   "mimetype": "text/x-python",
   "name": "python",
   "nbconvert_exporter": "python",
   "pygments_lexer": "ipython3",
   "version": "3.8.13"
  }
 },
 "nbformat": 4,
 "nbformat_minor": 5
}
