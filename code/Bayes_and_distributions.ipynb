{
 "cells": [
  {
   "cell_type": "markdown",
   "id": "acdb9f92",
   "metadata": {},
   "source": [
    "# Examples for chapter 2 of the Pattern recognition course"
   ]
  },
  {
   "cell_type": "code",
   "execution_count": null,
   "id": "a9ba885c",
   "metadata": {},
   "outputs": [],
   "source": [
    "import numpy as np\n",
    "import matplotlib.pyplot as plt\n",
    "import scipy.stats as stats"
   ]
  },
  {
   "cell_type": "markdown",
   "id": "72e6b688",
   "metadata": {},
   "source": [
    "## Examples of probability distribution of samples with 2 classes"
   ]
  },
  {
   "cell_type": "code",
   "execution_count": null,
   "id": "d059a32a",
   "metadata": {},
   "outputs": [],
   "source": [
    "mu1 = 0\n",
    "mu2 = 3\n",
    "variance = 1\n",
    "sigma = np.sqrt(variance)\n",
    "x = np.linspace(mu1 - 3*sigma, mu2 + 6*sigma, 100)\n",
    "\n",
    "g1 =  stats.norm.pdf(x, mu1, sigma)\n",
    "g2 =  stats.norm.pdf(x, mu2, sigma)\n",
    "\n",
    "plt.figure(dpi=100)\n",
    "plt.plot(x, g1/2, label='$p(x|\\omega_1)P(\\omega_1)$')\n",
    "plt.plot(x, g2/2, label='$p(x|\\omega_2)P(\\omega_2)$')\n",
    "plt.plot(x, (g1+g2)/2, 'k', label='$p(x)$')\n",
    "\n",
    "plt.xlabel('x')\n",
    "#plt.ylabel('p(x)')\n",
    "plt.legend()\n",
    "plt.show()"
   ]
  },
  {
   "cell_type": "code",
   "execution_count": null,
   "id": "6d34d635",
   "metadata": {},
   "outputs": [],
   "source": [
    "from scipy.stats import multivariate_normal"
   ]
  },
  {
   "cell_type": "code",
   "execution_count": null,
   "id": "f3181dcb",
   "metadata": {},
   "outputs": [],
   "source": [
    "x, y = np.mgrid[-3:6:.01, -3:6:.01]\n",
    "pos = np.dstack((x, y))\n",
    "\n",
    "rv1 = multivariate_normal([0, 0], [[2.0, 0.3], [0.3, 0.5]])\n",
    "rv2 = multivariate_normal([3, 3], [[2.0, 0.3], [0.3, 0.5]])\n",
    "\n",
    "fig2 = plt.figure(dpi=100)\n",
    "ax2 = fig2.add_subplot(111)\n",
    "ax2.contourf(x, y, rv1.pdf(pos)+rv2.pdf(pos))\n",
    "plt.xlabel('$x_1$')\n",
    "plt.ylabel('$x_2$')\n",
    "#ax2.contourf(x, y, rv2.pdf(pos))\n",
    "plt.show()"
   ]
  },
  {
   "cell_type": "markdown",
   "id": "dc4e5230",
   "metadata": {},
   "source": [
    "### Case on an imbalanced class"
   ]
  },
  {
   "cell_type": "code",
   "execution_count": null,
   "id": "a8768edf",
   "metadata": {},
   "outputs": [],
   "source": [
    "# inbalanced classes\n",
    "\n",
    "mu1 = 0\n",
    "mu2 = 3\n",
    "variance = 1\n",
    "sigma = np.sqrt(variance)\n",
    "x = np.linspace(mu1 - 3*sigma, mu1 + 6*sigma, 100)\n",
    "\n",
    "g1 =  stats.norm.pdf(x, mu1, sigma)\n",
    "g2 =  stats.norm.pdf(x, mu2, sigma)\n",
    "\n",
    "plt.figure(dpi=100)\n",
    "plt.plot(x, g1*0.9, label='$p(x|\\omega_1)*0.9$')\n",
    "plt.plot(x, g2*0.1, label='$p(x|\\omega_2)*0.1$')\n",
    "plt.plot(x, (g1*0.9+g2*0.1), 'k', label='$p(x)$')\n",
    "\n",
    "plt.xlabel('x')\n",
    "#plt.ylabel('p(x)')\n",
    "plt.legend()\n",
    "plt.show()"
   ]
  },
  {
   "cell_type": "markdown",
   "id": "a5838c2e",
   "metadata": {},
   "source": [
    "## visualization of normal distribution in 2D"
   ]
  },
  {
   "cell_type": "code",
   "execution_count": null,
   "id": "a0a3bbea",
   "metadata": {},
   "outputs": [],
   "source": [
    "x, y = np.mgrid[-3:3:.01, -3:3:.01]\n",
    "pos = np.dstack((x, y))\n",
    "\n",
    "rv1 = multivariate_normal([0, 0], [[2, -0.5], [-0.5, 0.5]])\n",
    "\n",
    "fig2 = plt.figure(dpi=100)\n",
    "ax2 = fig2.add_subplot(111)\n",
    "ax2.contour(x, y, rv1.pdf(pos))\n",
    "plt.xlabel('$x_1$')\n",
    "plt.ylabel('$x_2$')\n",
    "#ax2.contourf(x, y, rv2.pdf(pos))\n",
    "plt.show()"
   ]
  },
  {
   "cell_type": "markdown",
   "id": "98fd41ac",
   "metadata": {},
   "source": [
    "Rotation matrix\n",
    "$$\n",
    "R =\\begin{pmatrix}\n",
    "\\cos \\theta & -\\sin\\theta \\\\ \n",
    " \\sin\\theta & \\cos\\theta\n",
    "\\end{pmatrix}\n",
    "$$"
   ]
  },
  {
   "cell_type": "code",
   "execution_count": null,
   "id": "4ce14a9c",
   "metadata": {},
   "outputs": [],
   "source": [
    "def rotation(theta):\n",
    "    # Return a rotation matrix\n",
    "    c = np.cos(theta)\n",
    "    s = np.sin(theta)\n",
    "    R = np.array(((c, -s), (s, c)))\n",
    "    return R"
   ]
  },
  {
   "cell_type": "code",
   "execution_count": null,
   "id": "b1f342f5",
   "metadata": {},
   "outputs": [],
   "source": [
    "# Rotation of the normal distribution in the feature space\n",
    "x, y = np.mgrid[-3:3:.01, -3:3:.01]\n",
    "pos = np.dstack((x, y))\n",
    "\n",
    "# rotation matrix\n",
    "theta = np.pi/4\n",
    "R = rotation(theta)\n",
    "\n",
    "# Initial covariance matrix\n",
    "S0 = [[2, 0], [0, 0.5]]\n",
    "\n",
    "# new covariance matrix:\n",
    "S = R.dot(S0).dot(R.T)\n",
    "\n",
    "rv1 = multivariate_normal([0, 0], S)\n",
    "\n",
    "fig2 = plt.figure(dpi=100)\n",
    "ax2 = fig2.add_subplot(111)\n",
    "ax2.contour(x, y, rv1.pdf(pos))\n",
    "plt.xlabel('$x_1$')\n",
    "plt.ylabel('$x_2$')\n",
    "#ax2.contourf(x, y, rv2.pdf(pos))\n",
    "plt.show()"
   ]
  },
  {
   "cell_type": "code",
   "execution_count": null,
   "id": "e07ff720",
   "metadata": {},
   "outputs": [],
   "source": []
  }
 ],
 "metadata": {
  "kernelspec": {
   "display_name": "coursePR",
   "language": "python",
   "name": "coursepr"
  },
  "language_info": {
   "codemirror_mode": {
    "name": "ipython",
    "version": 3
   },
   "file_extension": ".py",
   "mimetype": "text/x-python",
   "name": "python",
   "nbconvert_exporter": "python",
   "pygments_lexer": "ipython3",
   "version": "3.9.12"
  }
 },
 "nbformat": 4,
 "nbformat_minor": 5
}
