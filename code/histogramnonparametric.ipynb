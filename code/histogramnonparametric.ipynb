{
 "cells": [
  {
   "cell_type": "markdown",
   "id": "797b5193-9aad-46fa-9af7-3fc2f2d835a0",
   "metadata": {},
   "source": [
    "# Non-parametric estimation of distributions"
   ]
  },
  {
   "cell_type": "code",
   "execution_count": null,
   "id": "a2fd0aaf-e12c-4ebe-8b84-20bdf03d6822",
   "metadata": {},
   "outputs": [],
   "source": [
    "import numpy as np\n",
    "import scipy.stats as stats\n",
    "import matplotlib.pyplot as plt"
   ]
  },
  {
   "cell_type": "markdown",
   "id": "c0c2660d-2053-4f9e-ba40-0ee03559e177",
   "metadata": {},
   "source": [
    "# Data\n",
    "Let us start from a Gaussian distribution and generate some sample points"
   ]
  },
  {
   "cell_type": "code",
   "execution_count": null,
   "id": "b869041a-4b98-44a0-acf3-b0ac1e68c721",
   "metadata": {},
   "outputs": [],
   "source": [
    "# generating data\n",
    "\n",
    "# parameters of the distributions\n",
    "mu = 0\n",
    "sigma = 2\n",
    "x = np.linspace(mu - 5*sigma, mu + 5*sigma, 100)\n",
    "\n",
    "# Define the pdf, we assume Gaussian distributions\n",
    "g =  stats.norm(mu, sigma)\n",
    "# Draw some samples\n",
    "nb_samples = 1000\n",
    "samples = g.rvs(nb_samples)"
   ]
  },
  {
   "cell_type": "markdown",
   "id": "5fc0f616-a799-4486-b011-e0fc7639582b",
   "metadata": {},
   "source": [
    "Let us plot some histograms"
   ]
  },
  {
   "cell_type": "code",
   "execution_count": null,
   "id": "ad7efb86-5221-4bbe-ba2f-20653dbf1b65",
   "metadata": {},
   "outputs": [],
   "source": [
    "plt.figure(dpi=100)\n",
    "#plt.plot(x, g.pdf(x), label=r'$p(x) $')\n",
    "plt.hist(samples, label='Histogram', histtype='step')\n",
    "plt.scatter(samples, np.zeros((1,nb_samples)), marker='x', label=r'samples')\n",
    "plt.xlim(-8,8)\n",
    "plt.xlabel(r'$x$')\n",
    "plt.ylabel('Count')\n",
    "plt.grid()\n",
    "plt.legend()\n",
    "plt.title('Histogram with 10 bins')\n",
    "plt.show()"
   ]
  },
  {
   "cell_type": "code",
   "execution_count": null,
   "id": "131fac49-85b6-46f4-8147-a4f33645e1f2",
   "metadata": {},
   "outputs": [],
   "source": [
    "# Histogram normalized\n",
    "plt.figure(dpi=100)\n",
    "plt.plot(x, g.pdf(x), label=r'$p(x) $')\n",
    "plt.hist(samples, density=True, label='Histogram')#, histtype='step')\n",
    "plt.scatter(samples, np.zeros((1,nb_samples)), marker='x', label=r'samples')\n",
    "\n",
    "plt.xlabel(r'$x$')\n",
    "plt.grid()\n",
    "plt.legend()\n",
    "plt.title('Normalized Histogram')\n",
    "plt.show()"
   ]
  },
  {
   "cell_type": "code",
   "execution_count": null,
   "id": "c83fc326-89ad-41f3-be42-a76e6d3dbb28",
   "metadata": {},
   "outputs": [],
   "source": [
    "# Change the number of bins\n",
    "plt.figure(dpi=100)\n",
    "plt.plot(x, g.pdf(x), label=r'$p(x) $')\n",
    "plt.hist(samples, bins= 50, density=True, label='Histogram')\n",
    "plt.scatter(samples, np.zeros((1,nb_samples)), marker='x', label=r'samples')\n",
    "\n",
    "plt.xlabel(r'$x$')\n",
    "plt.grid()\n",
    "plt.legend()\n",
    "plt.title('Histogram with 50 bins')\n",
    "plt.show()"
   ]
  },
  {
   "cell_type": "markdown",
   "id": "4cfdc30c-e7d0-4895-a429-3c5e441744fe",
   "metadata": {},
   "source": [
    "### A few problems appear when we do not have enough data"
   ]
  },
  {
   "cell_type": "code",
   "execution_count": null,
   "id": "04ab059d-e3db-4518-b857-6fd178f65be2",
   "metadata": {},
   "outputs": [],
   "source": [
    "# generating data\n",
    "\n",
    "# parameters of the distributions\n",
    "mu = 0\n",
    "sigma = 2\n",
    "x = np.linspace(mu - 5*sigma, mu + 5*sigma, 100)\n",
    "\n",
    "# Define the pdf, we assume Gaussian distributions\n",
    "g =  stats.norm(mu, sigma)\n",
    "# Draw some samples\n",
    "nb_samples = 100\n",
    "samples = g.rvs(nb_samples)"
   ]
  },
  {
   "cell_type": "markdown",
   "id": "c28f501e-070f-411d-b92a-4b5005559ef1",
   "metadata": {},
   "source": [
    "With 100 samples and 50 bins, many bins are empty"
   ]
  },
  {
   "cell_type": "code",
   "execution_count": null,
   "id": "b0b2e67c-dba7-481a-9b5e-716e2d6730a2",
   "metadata": {},
   "outputs": [],
   "source": [
    "# Change the number of bins\n",
    "plt.figure(dpi=100)\n",
    "plt.plot(x, g.pdf(x), label=r'$p(x) $')\n",
    "plt.hist(samples, bins= 50, density=True, label='Histogram')\n",
    "plt.scatter(samples, np.zeros((1,nb_samples)), marker='x', label=r'samples')\n",
    "\n",
    "plt.xlabel(r'$x$')\n",
    "plt.grid()\n",
    "plt.legend()\n",
    "plt.title('Histogram with 50 bins (100 samples)')\n",
    "plt.show()"
   ]
  },
  {
   "cell_type": "markdown",
   "id": "251c1a40-6024-4e03-b867-562dfc3f9ddf",
   "metadata": {},
   "source": [
    "# Parzen windows and convolution\n",
    "\n",
    "We use the scikit-learn function [Kerneldensity](https://scikit-learn.org/stable/modules/generated/sklearn.neighbors.KernelDensity.html#sklearn.neighbors.KernelDensity)."
   ]
  },
  {
   "cell_type": "code",
   "execution_count": null,
   "id": "fb7819f9-4090-4c6c-9486-bb86c397a4e3",
   "metadata": {},
   "outputs": [],
   "source": [
    "from sklearn.neighbors import KernelDensity\n",
    "\n",
    "\n",
    "x2 = samples[:,np.newaxis]\n",
    "X_plot = np.linspace(-10, 10, 1000)[:, np.newaxis]\n",
    "\n",
    "plt.figure(dpi=100)\n",
    "ax1 = plt.subplot(111)\n",
    "\n",
    "for h in [0.1,0.2,0.5,2]:\n",
    "    kde = KernelDensity(kernel='gaussian', bandwidth=h).fit(x2)\n",
    "    log_density = kde.score_samples(X_plot)\n",
    "    ax1.plot(X_plot[:,0], np.exp(log_density), label='h='+str(h))\n",
    "\n",
    "\n",
    "plt.legend()\n",
    "plt.show()"
   ]
  },
  {
   "cell_type": "markdown",
   "id": "607173b3-61e2-47b0-a82d-6b9255baefe9",
   "metadata": {},
   "source": [
    "Applying the window to a single sample at zero reveal the window:"
   ]
  },
  {
   "cell_type": "code",
   "execution_count": null,
   "id": "8043e4ea-224f-42a4-896e-d6aa8d1a7c4c",
   "metadata": {},
   "outputs": [],
   "source": [
    "\n",
    "x_test = np.zeros((1,1))\n",
    "#x_test[50] = 1\n",
    "\n",
    "#kde = KernelDensity(kernel='tophat', bandwidth=2).fit(x_test)\n",
    "kde = KernelDensity(kernel='gaussian', bandwidth=2).fit(x_test)\n",
    "X_plot = np.linspace(-10, 10, 1000)[:, np.newaxis]\n",
    "\n",
    "log_density = kde.score_samples(X_plot)\n",
    "plt.plot(X_plot, np.exp(log_density))\n",
    "plt.show()"
   ]
  },
  {
   "cell_type": "code",
   "execution_count": null,
   "id": "b909def2-a211-4731-9429-6c6b3f37297c",
   "metadata": {},
   "outputs": [],
   "source": []
  }
 ],
 "metadata": {
  "kernelspec": {
   "display_name": "coursePR",
   "language": "python",
   "name": "coursepr"
  },
  "language_info": {
   "codemirror_mode": {
    "name": "ipython",
    "version": 3
   },
   "file_extension": ".py",
   "mimetype": "text/x-python",
   "name": "python",
   "nbconvert_exporter": "python",
   "pygments_lexer": "ipython3",
   "version": "3.9.12"
  }
 },
 "nbformat": 4,
 "nbformat_minor": 5
}
