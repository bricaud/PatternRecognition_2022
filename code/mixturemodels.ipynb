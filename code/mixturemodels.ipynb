{
 "cells": [
  {
   "cell_type": "markdown",
   "id": "4051eae5-7970-49b5-ab98-8d46364b56d2",
   "metadata": {},
   "source": [
    "# Mixture models\n",
    "Some examples to illustrate mixture models."
   ]
  },
  {
   "cell_type": "code",
   "execution_count": null,
   "id": "c75025dd-20dd-470d-a58a-bcbd340916a4",
   "metadata": {},
   "outputs": [],
   "source": [
    "import numpy as np\n",
    "import scipy.stats as stats\n",
    "import matplotlib.pyplot as plt"
   ]
  },
  {
   "cell_type": "markdown",
   "id": "94f0b6e2-2e23-4cf6-85e8-df0c9ef32da5",
   "metadata": {},
   "source": [
    "The dataset is a linear combination of probability distributions."
   ]
  },
  {
   "cell_type": "code",
   "execution_count": null,
   "id": "8928bcd5-9a51-4b8e-85b9-32a26495ba8d",
   "metadata": {},
   "outputs": [],
   "source": [
    "# parameters of the distributions\n",
    "mu1 = 0\n",
    "mu2 = 3\n",
    "mu3 = 6\n",
    "sigma1 = 2\n",
    "sigma2 = 1\n",
    "sigma3 = 1.5\n",
    "x = np.linspace(mu1 - 3*sigma1, mu3 + 6*sigma3, 100)\n",
    "\n",
    "# define the pdf, we assume Gaussian distributions\n",
    "g1 =  stats.norm.pdf(x, mu1, sigma1)\n",
    "g2 =  stats.norm.pdf(x, mu2, sigma2)\n",
    "g3 =  stats.norm.pdf(x, mu3, sigma3)\n",
    "\n",
    "# plot\n",
    "plt.figure(dpi=100)\n",
    "plt.plot(x, g1, label=r'$p(x|k=1)p(k=1) $')\n",
    "plt.plot(x, g2, label=r'$p(x|k=2)p(k=2)$')\n",
    "plt.plot(x, g3, label=r'$p(x|k=3)p(k=3)$')\n",
    "plt.plot(x, g1+g2+g3, 'k', label=r'$p(x)$')\n",
    "\n",
    "\n",
    "plt.xlabel(r'$x$')\n",
    "plt.grid()\n",
    "plt.legend()\n",
    "plt.show()"
   ]
  },
  {
   "cell_type": "code",
   "execution_count": null,
   "id": "9425e95d-8ee9-42c9-85d0-e916cb9fc5a3",
   "metadata": {},
   "outputs": [],
   "source": [
    "# parameters of the distributions\n",
    "mu1 = 0\n",
    "mu2 = 3\n",
    "mu3 = 6\n",
    "sigma1 = 2\n",
    "sigma2 = 1\n",
    "sigma3 = 1.5\n",
    "x = np.linspace(mu1 - 3*sigma1, mu3 + 6*sigma3, 100)\n",
    "\n",
    "# define the pdf, we assume Gaussian distributions\n",
    "g1 =  stats.norm.pdf(x, mu1, sigma1)\n",
    "g2 =  stats.norm.pdf(x, mu2, sigma2)\n",
    "g3 =  stats.norm.pdf(x, mu3, sigma3)\n",
    "\n",
    "# plot\n",
    "plt.figure(dpi=100)\n",
    "#plt.plot(x, g1, label=r'$p(x|k=1)p(k=1) $')\n",
    "#plt.plot(x, g2, label=r'$p(x|k=2)p(k=2)$')\n",
    "#plt.plot(x, g3, label=r'$p(x|k=3)p(k=3)$')\n",
    "plt.plot(x, g1+g2+g3, 'k', label=r'$p(x)$')\n",
    "\n",
    "\n",
    "plt.xlabel(r'$x$')\n",
    "plt.grid()\n",
    "plt.legend()\n",
    "plt.show()"
   ]
  },
  {
   "cell_type": "markdown",
   "id": "111fa30a-7575-4bc3-8312-ad89c229a518",
   "metadata": {},
   "source": [
    "## 2 dimensions"
   ]
  },
  {
   "cell_type": "code",
   "execution_count": null,
   "id": "f98e42f6-59e1-4464-9da1-b9f0e78bc9a9",
   "metadata": {},
   "outputs": [],
   "source": [
    "\n",
    "mu1 = [1, 1]\n",
    "S1 = [[2.0, 0], [0, 0.5]]\n",
    "mu2 = [-1, -1]\n",
    "S2 = [[2.0, 0.3], [0.3, 0.5]]\n",
    "\n",
    "x, y = np.mgrid[-5:5:.01, -5:5:.01]\n",
    "pos = np.dstack((x, y))\n",
    "\n",
    "rv1 = stats.multivariate_normal(mu1, S1)\n",
    "rv2 = stats.multivariate_normal(mu2, S2)\n",
    "\n",
    "# plot the pdf\n",
    "fig2 = plt.figure()\n",
    "ax2 = fig2.add_subplot(111)\n",
    "ax2.contour(x, y, rv1.pdf(pos))\n",
    "ax2.contour(x, y, rv2.pdf(pos))\n",
    "\n",
    "# plot some random points from the pdf\n",
    "samples1 = rv1.rvs(100)\n",
    "samples2 = rv2.rvs(100)\n",
    "\n",
    "plt.scatter(samples1[:,0],samples1[:,1])\n",
    "plt.scatter(samples2[:,0],samples2[:,1])\n",
    "plt.show()"
   ]
  },
  {
   "cell_type": "code",
   "execution_count": null,
   "id": "aca1ffeb-a572-4e6d-bb09-c81e5d79b698",
   "metadata": {},
   "outputs": [],
   "source": [
    "samples = rv.rvs(100)\n",
    "plt.scatter(samples[:,0],samples[:,1])\n",
    "plt.show()"
   ]
  },
  {
   "cell_type": "code",
   "execution_count": null,
   "id": "43f4a812-995a-42c0-a185-519b75a1cd5b",
   "metadata": {},
   "outputs": [],
   "source": [
    "samples.shape"
   ]
  },
  {
   "cell_type": "code",
   "execution_count": null,
   "id": "6a609a6d-e1ac-40ce-b31b-8dff87f17c96",
   "metadata": {},
   "outputs": [],
   "source": []
  }
 ],
 "metadata": {
  "kernelspec": {
   "display_name": "coursePR",
   "language": "python",
   "name": "coursepr"
  },
  "language_info": {
   "codemirror_mode": {
    "name": "ipython",
    "version": 3
   },
   "file_extension": ".py",
   "mimetype": "text/x-python",
   "name": "python",
   "nbconvert_exporter": "python",
   "pygments_lexer": "ipython3",
   "version": "3.9.12"
  }
 },
 "nbformat": 4,
 "nbformat_minor": 5
}
